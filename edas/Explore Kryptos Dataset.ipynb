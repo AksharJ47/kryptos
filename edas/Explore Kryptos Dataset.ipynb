{
 "cells": [
  {
   "cell_type": "code",
   "execution_count": 1,
   "metadata": {},
   "outputs": [],
   "source": [
    "import pandas as pd\n",
    "import numpy as np\n",
    "import matplotlib\n",
    "import matplotlib.pyplot as plt\n",
    "\n",
    "matplotlib.style.use('seaborn')"
   ]
  },
  {
   "cell_type": "code",
   "execution_count": 2,
   "metadata": {},
   "outputs": [],
   "source": [
    "# Load data\n",
    "df = pd.read_csv('../kryptos/performance_results/all_strategies/backtest_summary.csv', sep=',')"
   ]
  },
  {
   "cell_type": "code",
   "execution_count": 3,
   "metadata": {},
   "outputs": [
    {
     "data": {
      "text/html": [
       "<div>\n",
       "<table border=\"1\" class=\"dataframe\">\n",
       "  <thead>\n",
       "    <tr style=\"text-align: right;\">\n",
       "      <th></th>\n",
       "      <th>Unnamed: 0</th>\n",
       "      <th>start_date</th>\n",
       "      <th>end_date</th>\n",
       "      <th>backtest_minutes</th>\n",
       "      <th>backtest_days</th>\n",
       "      <th>backtest_weeks</th>\n",
       "      <th>number_of_trades</th>\n",
       "      <th>average_trades_per_week_avg</th>\n",
       "      <th>average_trade_amount_usd</th>\n",
       "      <th>initial_capital</th>\n",
       "      <th>...</th>\n",
       "      <th>max_weekly_drawdown_pct</th>\n",
       "      <th>sharpe_ratio_avg</th>\n",
       "      <th>std_rolling_10_day_pct_avg</th>\n",
       "      <th>std_rolling_100_day_pct_avg</th>\n",
       "      <th>number_of_simulations</th>\n",
       "      <th>data_freq</th>\n",
       "      <th>asset</th>\n",
       "      <th>exchange</th>\n",
       "      <th>history_freq</th>\n",
       "      <th>namespace</th>\n",
       "    </tr>\n",
       "  </thead>\n",
       "  <tbody>\n",
       "    <tr>\n",
       "      <th>0</th>\n",
       "      <td>0</td>\n",
       "      <td>2017-10-10</td>\n",
       "      <td>2018-03-28</td>\n",
       "      <td>0.0</td>\n",
       "      <td>169.0</td>\n",
       "      <td>24.142857</td>\n",
       "      <td>0</td>\n",
       "      <td>0.000000</td>\n",
       "      <td>NaN</td>\n",
       "      <td>5000.0</td>\n",
       "      <td>...</td>\n",
       "      <td>0.000000</td>\n",
       "      <td>NaN</td>\n",
       "      <td>0.000000</td>\n",
       "      <td>0.000000</td>\n",
       "      <td>170</td>\n",
       "      <td>daily</td>\n",
       "      <td>btc_usd</td>\n",
       "      <td>bitfinex</td>\n",
       "      <td>1d</td>\n",
       "      <td>rsi_ta</td>\n",
       "    </tr>\n",
       "    <tr>\n",
       "      <th>1</th>\n",
       "      <td>1</td>\n",
       "      <td>2017-10-10</td>\n",
       "      <td>2018-03-28</td>\n",
       "      <td>0.0</td>\n",
       "      <td>169.0</td>\n",
       "      <td>24.142857</td>\n",
       "      <td>0</td>\n",
       "      <td>0.000000</td>\n",
       "      <td>NaN</td>\n",
       "      <td>5000.0</td>\n",
       "      <td>...</td>\n",
       "      <td>-8.550492</td>\n",
       "      <td>2.382749</td>\n",
       "      <td>0.015904</td>\n",
       "      <td>0.060940</td>\n",
       "      <td>170</td>\n",
       "      <td>daily</td>\n",
       "      <td>btc_usd</td>\n",
       "      <td>bitfinex</td>\n",
       "      <td>1d</td>\n",
       "      <td>buy_low_sell_high</td>\n",
       "    </tr>\n",
       "    <tr>\n",
       "      <th>2</th>\n",
       "      <td>2</td>\n",
       "      <td>2017-10-10</td>\n",
       "      <td>2018-03-28</td>\n",
       "      <td>0.0</td>\n",
       "      <td>169.0</td>\n",
       "      <td>24.142857</td>\n",
       "      <td>0</td>\n",
       "      <td>0.000000</td>\n",
       "      <td>NaN</td>\n",
       "      <td>5000.0</td>\n",
       "      <td>...</td>\n",
       "      <td>0.000000</td>\n",
       "      <td>NaN</td>\n",
       "      <td>0.000000</td>\n",
       "      <td>0.000000</td>\n",
       "      <td>170</td>\n",
       "      <td>daily</td>\n",
       "      <td>btc_usd</td>\n",
       "      <td>bitfinex</td>\n",
       "      <td>1d</td>\n",
       "      <td>sma_macd</td>\n",
       "    </tr>\n",
       "    <tr>\n",
       "      <th>3</th>\n",
       "      <td>3</td>\n",
       "      <td>2017-10-10</td>\n",
       "      <td>2018-03-28</td>\n",
       "      <td>0.0</td>\n",
       "      <td>169.0</td>\n",
       "      <td>24.142857</td>\n",
       "      <td>22</td>\n",
       "      <td>0.911243</td>\n",
       "      <td>14.082818</td>\n",
       "      <td>5000.0</td>\n",
       "      <td>...</td>\n",
       "      <td>-20.252411</td>\n",
       "      <td>3.222269</td>\n",
       "      <td>0.041344</td>\n",
       "      <td>0.155708</td>\n",
       "      <td>170</td>\n",
       "      <td>daily</td>\n",
       "      <td>btc_usd</td>\n",
       "      <td>bitfinex</td>\n",
       "      <td>1d</td>\n",
       "      <td>pugilist</td>\n",
       "    </tr>\n",
       "    <tr>\n",
       "      <th>4</th>\n",
       "      <td>4</td>\n",
       "      <td>2017-10-10</td>\n",
       "      <td>2018-03-28</td>\n",
       "      <td>0.0</td>\n",
       "      <td>169.0</td>\n",
       "      <td>24.142857</td>\n",
       "      <td>0</td>\n",
       "      <td>0.000000</td>\n",
       "      <td>NaN</td>\n",
       "      <td>5000.0</td>\n",
       "      <td>...</td>\n",
       "      <td>0.000000</td>\n",
       "      <td>NaN</td>\n",
       "      <td>0.000000</td>\n",
       "      <td>0.000000</td>\n",
       "      <td>170</td>\n",
       "      <td>daily</td>\n",
       "      <td>btc_usd</td>\n",
       "      <td>bitfinex</td>\n",
       "      <td>1d</td>\n",
       "      <td>rsi</td>\n",
       "    </tr>\n",
       "  </tbody>\n",
       "</table>\n",
       "<p>5 rows × 30 columns</p>\n",
       "</div>"
      ],
      "text/plain": [
       "   Unnamed: 0  start_date    end_date  backtest_minutes  backtest_days  \\\n",
       "0           0  2017-10-10  2018-03-28               0.0          169.0   \n",
       "1           1  2017-10-10  2018-03-28               0.0          169.0   \n",
       "2           2  2017-10-10  2018-03-28               0.0          169.0   \n",
       "3           3  2017-10-10  2018-03-28               0.0          169.0   \n",
       "4           4  2017-10-10  2018-03-28               0.0          169.0   \n",
       "\n",
       "   backtest_weeks  number_of_trades  average_trades_per_week_avg  \\\n",
       "0       24.142857                 0                     0.000000   \n",
       "1       24.142857                 0                     0.000000   \n",
       "2       24.142857                 0                     0.000000   \n",
       "3       24.142857                22                     0.911243   \n",
       "4       24.142857                 0                     0.000000   \n",
       "\n",
       "   average_trade_amount_usd  initial_capital        ...          \\\n",
       "0                       NaN           5000.0        ...           \n",
       "1                       NaN           5000.0        ...           \n",
       "2                       NaN           5000.0        ...           \n",
       "3                 14.082818           5000.0        ...           \n",
       "4                       NaN           5000.0        ...           \n",
       "\n",
       "   max_weekly_drawdown_pct  sharpe_ratio_avg  std_rolling_10_day_pct_avg  \\\n",
       "0                 0.000000               NaN                    0.000000   \n",
       "1                -8.550492          2.382749                    0.015904   \n",
       "2                 0.000000               NaN                    0.000000   \n",
       "3               -20.252411          3.222269                    0.041344   \n",
       "4                 0.000000               NaN                    0.000000   \n",
       "\n",
       "   std_rolling_100_day_pct_avg  number_of_simulations  data_freq    asset  \\\n",
       "0                     0.000000                    170      daily  btc_usd   \n",
       "1                     0.060940                    170      daily  btc_usd   \n",
       "2                     0.000000                    170      daily  btc_usd   \n",
       "3                     0.155708                    170      daily  btc_usd   \n",
       "4                     0.000000                    170      daily  btc_usd   \n",
       "\n",
       "   exchange  history_freq          namespace  \n",
       "0  bitfinex            1d             rsi_ta  \n",
       "1  bitfinex            1d  buy_low_sell_high  \n",
       "2  bitfinex            1d           sma_macd  \n",
       "3  bitfinex            1d           pugilist  \n",
       "4  bitfinex            1d                rsi  \n",
       "\n",
       "[5 rows x 30 columns]"
      ]
     },
     "execution_count": 3,
     "metadata": {},
     "output_type": "execute_result"
    }
   ],
   "source": [
    "df.head()"
   ]
  },
  {
   "cell_type": "code",
   "execution_count": 4,
   "metadata": {},
   "outputs": [
    {
     "data": {
      "text/plain": [
       "Index(['Unnamed: 0', 'start_date', 'end_date', 'backtest_minutes',\n",
       "       'backtest_days', 'backtest_weeks', 'number_of_trades',\n",
       "       'average_trades_per_week_avg', 'average_trade_amount_usd',\n",
       "       'initial_capital', 'ending_capital', 'net_profit', 'net_profit_pct',\n",
       "       'average_daily_profit', 'average_daily_profit_pct', 'average_exposure',\n",
       "       'average_exposure_pct', 'net_risk_adjusted_return_pct',\n",
       "       'max_drawdown_pct_catalyst', 'max_daily_drawdown_pct',\n",
       "       'max_weekly_drawdown_pct', 'sharpe_ratio_avg',\n",
       "       'std_rolling_10_day_pct_avg', 'std_rolling_100_day_pct_avg',\n",
       "       'number_of_simulations', 'data_freq', 'asset', 'exchange',\n",
       "       'history_freq', 'namespace'],\n",
       "      dtype='object')"
      ]
     },
     "execution_count": 4,
     "metadata": {},
     "output_type": "execute_result"
    }
   ],
   "source": [
    "df.columns"
   ]
  },
  {
   "cell_type": "code",
   "execution_count": 5,
   "metadata": {},
   "outputs": [],
   "source": [
    "def show_bar_histogram(values, label):\n",
    "    labels = df.namespace.tolist()\n",
    "    ind = np.arange(len(labels))\n",
    "    width = 0.9\n",
    "    fig, ax = plt.subplots(figsize=(5,10))\n",
    "    rects = ax.barh(ind, np.array(values), color='y')\n",
    "    ax.set_yticks(ind+((width)/2.))\n",
    "    ax.set_yticklabels(labels, rotation='horizontal')\n",
    "    ax.set_xlabel(label)\n",
    "    plt.show()"
   ]
  },
  {
   "cell_type": "code",
   "execution_count": 6,
   "metadata": {},
   "outputs": [
    {
     "name": "stdout",
     "output_type": "stream",
     "text": [
      "Number of simulations: 170\n",
      "Data Frequency: daily\n",
      "Asset: btc_usd\n",
      "Exchange: bitfinex\n",
      "History Frequency: 1d\n"
     ]
    }
   ],
   "source": [
    "print('Number of simulations: ' + str(df.head(1).number_of_simulations[0]))\n",
    "print('Data Frequency: ' + str(df.head(1).data_freq[0]))\n",
    "print('Asset: ' + str(df.head(1).asset[0]))\n",
    "print('Exchange: ' + str(df.head(1).exchange[0]))\n",
    "print('History Frequency: ' + str(df.head(1).history_freq[0]))"
   ]
  },
  {
   "cell_type": "code",
   "execution_count": 7,
   "metadata": {},
   "outputs": [
    {
     "data": {
      "image/png": "[encoded data removed]",
      "text/plain": [
       "<Figure size 360x720 with 1 Axes>"
      ]
     },
     "metadata": {},
     "output_type": "display_data"
    }
   ],
   "source": [
    "values = []\n",
    "for row in df.number_of_trades:\n",
    "    values.append(row)\n",
    "label_x = 'Number of Trades'\n",
    "show_bar_histogram(values, label_x)"
   ]
  },
  {
   "cell_type": "code",
   "execution_count": 8,
   "metadata": {},
   "outputs": [
    {
     "data": {
      "image/png": "[encoded data removed]",
      "text/plain": [
       "<Figure size 360x720 with 1 Axes>"
      ]
     },
     "metadata": {},
     "output_type": "display_data"
    }
   ],
   "source": [
    "values = []\n",
    "for row in df.net_profit_pct:\n",
    "    values.append(row)\n",
    "label_x = 'Net Profit %'\n",
    "show_bar_histogram(values, label_x)"
   ]
  },
  {
   "cell_type": "code",
   "execution_count": 9,
   "metadata": {},
   "outputs": [
    {
     "data": {
      "image/png": "[encoded data removed]",
      "text/plain": [
       "<Figure size 360x720 with 1 Axes>"
      ]
     },
     "metadata": {},
     "output_type": "display_data"
    }
   ],
   "source": [
    "values = []\n",
    "for row in df.max_daily_drawdown_pct:\n",
    "    values.append(row)\n",
    "label_x = 'Max Daily Drawdown %'\n",
    "show_bar_histogram(values, label_x)"
   ]
  },
  {
   "cell_type": "code",
   "execution_count": 10,
   "metadata": {},
   "outputs": [
    {
     "data": {
      "image/png": "[encoded data removed]",
      "text/plain": [
       "<Figure size 360x720 with 1 Axes>"
      ]
     },
     "metadata": {},
     "output_type": "display_data"
    }
   ],
   "source": [
    "values = []\n",
    "for row in df.average_exposure_pct:\n",
    "    values.append(row)\n",
    "label_x = 'Average Exposure %'\n",
    "show_bar_histogram(values, label_x)"
   ]
  },
  {
   "cell_type": "code",
   "execution_count": null,
   "metadata": {},
   "outputs": [],
   "source": []
  },
  {
   "cell_type": "code",
   "execution_count": null,
   "metadata": {},
   "outputs": [],
   "source": []
  }
 ],
 "metadata": {
  "kernelspec": {
   "display_name": "Python 3",
   "language": "python",
   "name": "python3"
  },
  "language_info": {
   "codemirror_mode": {
    "name": "ipython",
    "version": 3
   },
   "file_extension": ".py",
   "mimetype": "text/x-python",
   "name": "python",
   "nbconvert_exporter": "python",
   "pygments_lexer": "ipython3",
   "version": "3.6.4"
  }
 },
 "nbformat": 4,
 "nbformat_minor": 2
}
